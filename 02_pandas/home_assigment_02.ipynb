{
 "cells": [
  {
   "cell_type": "code",
   "execution_count": 1,
   "metadata": {},
   "outputs": [],
   "source": [
    "import pandas as pd"
   ]
  },
  {
   "cell_type": "code",
   "execution_count": 8,
   "metadata": {},
   "outputs": [],
   "source": [
    "names = [\"prev\", \"curr\", \"type\", \"n\"]\n",
    "de_wiki = pd.read_csv(\"../data/22/clickstream-dewiki-2022-03.tsv\", sep=\"\\t\", names=names)"
   ]
  },
  {
   "cell_type": "code",
   "execution_count": 9,
   "metadata": {},
   "outputs": [
    {
     "data": {
      "text/html": [
       "<div>\n",
       "<style scoped>\n",
       "    .dataframe tbody tr th:only-of-type {\n",
       "        vertical-align: middle;\n",
       "    }\n",
       "\n",
       "    .dataframe tbody tr th {\n",
       "        vertical-align: top;\n",
       "    }\n",
       "\n",
       "    .dataframe thead th {\n",
       "        text-align: right;\n",
       "    }\n",
       "</style>\n",
       "<table border=\"1\" class=\"dataframe\">\n",
       "  <thead>\n",
       "    <tr style=\"text-align: right;\">\n",
       "      <th></th>\n",
       "      <th>prev</th>\n",
       "      <th>curr</th>\n",
       "      <th>type</th>\n",
       "      <th>n</th>\n",
       "    </tr>\n",
       "  </thead>\n",
       "  <tbody>\n",
       "    <tr>\n",
       "      <th>0</th>\n",
       "      <td>other-empty</td>\n",
       "      <td>Lichtröhre</td>\n",
       "      <td>external</td>\n",
       "      <td>53.0</td>\n",
       "    </tr>\n",
       "    <tr>\n",
       "      <th>1</th>\n",
       "      <td>Lichtleiter</td>\n",
       "      <td>Lichtröhre</td>\n",
       "      <td>link</td>\n",
       "      <td>12.0</td>\n",
       "    </tr>\n",
       "    <tr>\n",
       "      <th>2</th>\n",
       "      <td>Wohnhöhle</td>\n",
       "      <td>Lichtröhre</td>\n",
       "      <td>link</td>\n",
       "      <td>19.0</td>\n",
       "    </tr>\n",
       "    <tr>\n",
       "      <th>3</th>\n",
       "      <td>other-search</td>\n",
       "      <td>Lichtröhre</td>\n",
       "      <td>external</td>\n",
       "      <td>76.0</td>\n",
       "    </tr>\n",
       "    <tr>\n",
       "      <th>4</th>\n",
       "      <td>other-internal</td>\n",
       "      <td>Lichtröhre</td>\n",
       "      <td>external</td>\n",
       "      <td>11.0</td>\n",
       "    </tr>\n",
       "  </tbody>\n",
       "</table>\n",
       "</div>"
      ],
      "text/plain": [
       "             prev        curr      type     n\n",
       "0     other-empty  Lichtröhre  external  53.0\n",
       "1     Lichtleiter  Lichtröhre      link  12.0\n",
       "2       Wohnhöhle  Lichtröhre      link  19.0\n",
       "3    other-search  Lichtröhre  external  76.0\n",
       "4  other-internal  Lichtröhre  external  11.0"
      ]
     },
     "execution_count": 9,
     "metadata": {},
     "output_type": "execute_result"
    }
   ],
   "source": [
    "de_wiki.head(5)"
   ]
  }
 ],
 "metadata": {
  "interpreter": {
   "hash": "b76cd6e4a6b6a0eee4465e1b560322ab1bf63a751bf638da5e533cf13c264002"
  },
  "kernelspec": {
   "display_name": "Python 3.10.4 64-bit ('daftacademy-ds': conda)",
   "name": "python3"
  },
  "language_info": {
   "codemirror_mode": {
    "name": "ipython",
    "version": 3
   },
   "file_extension": ".py",
   "mimetype": "text/x-python",
   "name": "python",
   "nbconvert_exporter": "python",
   "pygments_lexer": "ipython3",
   "version": "3.10.4"
  },
  "orig_nbformat": 4
 },
 "nbformat": 4,
 "nbformat_minor": 2
}
