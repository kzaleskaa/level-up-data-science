{
 "cells": [
  {
   "cell_type": "code",
   "execution_count": 1,
   "metadata": {},
   "outputs": [],
   "source": [
    "import numpy as np\n",
    "import matplotlib.pyplot as plt"
   ]
  },
  {
   "cell_type": "code",
   "execution_count": 2,
   "metadata": {},
   "outputs": [
    {
     "data": {
      "text/plain": [
       "array([-0.7 , -0.49, -0.32, -1.76,  0.21, -2.01, -0.56,  0.34,  1.55,\n",
       "       -1.37,  1.43, -0.28, -0.56,  1.19,  1.7 , -1.69, -0.7 ,  0.58,\n",
       "        0.98, -1.22, -1.33, -0.  , -1.31, -0.38,  1.27,  0.12,  0.15,\n",
       "       -2.75, -0.36,  0.01])"
      ]
     },
     "execution_count": 2,
     "metadata": {},
     "output_type": "execute_result"
    }
   ],
   "source": [
    "np.random.seed(1337)\n",
    "x = np.round(np.random.normal(size=30), 2)\n",
    "y = x + np.round(np.random.normal(size=30) * 0.1, 2)\n",
    "x"
   ]
  },
  {
   "cell_type": "markdown",
   "metadata": {},
   "source": [
    "## 1. Średnią z x"
   ]
  },
  {
   "cell_type": "code",
   "execution_count": 3,
   "metadata": {},
   "outputs": [
    {
     "data": {
      "text/plain": [
       "-0.2753333333333333"
      ]
     },
     "execution_count": 3,
     "metadata": {},
     "output_type": "execute_result"
    }
   ],
   "source": [
    "np.mean(x)"
   ]
  },
  {
   "cell_type": "markdown",
   "metadata": {},
   "source": [
    "## 2. Sumę x"
   ]
  },
  {
   "cell_type": "code",
   "execution_count": 4,
   "metadata": {},
   "outputs": [
    {
     "data": {
      "text/plain": [
       "-8.26"
      ]
     },
     "execution_count": 4,
     "metadata": {},
     "output_type": "execute_result"
    }
   ],
   "source": [
    "np.sum(x)"
   ]
  },
  {
   "cell_type": "markdown",
   "metadata": {},
   "source": [
    "## 3. Średnią z wartości bezwzględnych z x"
   ]
  },
  {
   "cell_type": "code",
   "execution_count": 5,
   "metadata": {},
   "outputs": [
    {
     "data": {
      "text/plain": [
       "0.9106666666666666"
      ]
     },
     "execution_count": 5,
     "metadata": {},
     "output_type": "execute_result"
    }
   ],
   "source": [
    "np.mean(np.abs(x))"
   ]
  },
  {
   "cell_type": "markdown",
   "metadata": {},
   "source": [
    "## 4. Element najbardziej odległy od 0 z x"
   ]
  },
  {
   "cell_type": "code",
   "execution_count": 6,
   "metadata": {},
   "outputs": [
    {
     "data": {
      "text/plain": [
       "-2.75"
      ]
     },
     "execution_count": 6,
     "metadata": {},
     "output_type": "execute_result"
    }
   ],
   "source": [
    "x[np.abs(x).argmax()]"
   ]
  },
  {
   "cell_type": "markdown",
   "metadata": {},
   "source": [
    "## 5. Element najbardziej odległy od 2 z x"
   ]
  },
  {
   "cell_type": "code",
   "execution_count": 7,
   "metadata": {},
   "outputs": [
    {
     "data": {
      "text/plain": [
       "-2.75"
      ]
     },
     "execution_count": 7,
     "metadata": {},
     "output_type": "execute_result"
    }
   ],
   "source": [
    "x[np.abs(x - 2).argmax()]"
   ]
  },
  {
   "cell_type": "markdown",
   "metadata": {},
   "source": [
    "## 6. Array który ustawi elementy mniejsze od  -1 na -1, a większe od 1 na 1"
   ]
  },
  {
   "cell_type": "code",
   "execution_count": 10,
   "metadata": {},
   "outputs": [
    {
     "data": {
      "text/plain": [
       "array([-0.7 , -0.49, -0.32, -1.  ,  0.21, -1.  , -0.56,  0.34,  1.  ,\n",
       "       -1.  ,  1.  , -0.28, -0.56,  1.  ,  1.  , -1.  , -0.7 ,  0.58,\n",
       "        0.98, -1.  , -1.  , -0.  , -1.  , -0.38,  1.  ,  0.12,  0.15,\n",
       "       -1.  , -0.36,  0.01])"
      ]
     },
     "execution_count": 10,
     "metadata": {},
     "output_type": "execute_result"
    }
   ],
   "source": [
    "np.where(x < -1, -1, np.where(x > 1, 1, x))"
   ]
  },
  {
   "cell_type": "markdown",
   "metadata": {},
   "source": [
    "## 7. Średni błąd między (ERR) x i y"
   ]
  },
  {
   "cell_type": "code",
   "execution_count": 154,
   "metadata": {},
   "outputs": [
    {
     "data": {
      "text/plain": [
       "0.005333333333333344"
      ]
     },
     "execution_count": 154,
     "metadata": {},
     "output_type": "execute_result"
    }
   ],
   "source": [
    "err = np.abs(np.mean(x - y))\n",
    "err"
   ]
  },
  {
   "cell_type": "markdown",
   "metadata": {},
   "source": [
    "## 8. Średni błąd bezwzględny (MAD) między x i y"
   ]
  },
  {
   "cell_type": "code",
   "execution_count": 155,
   "metadata": {},
   "outputs": [
    {
     "data": {
      "text/plain": [
       "0.08266666666666665"
      ]
     },
     "execution_count": 155,
     "metadata": {},
     "output_type": "execute_result"
    }
   ],
   "source": [
    "mad = np.mean(np.abs(x - y))\n",
    "mad"
   ]
  },
  {
   "cell_type": "markdown",
   "metadata": {},
   "source": [
    "## 9. Średni błąd kwadratowy (MSE) między x i y"
   ]
  },
  {
   "cell_type": "code",
   "execution_count": 156,
   "metadata": {},
   "outputs": [
    {
     "data": {
      "text/plain": [
       "0.009780000000000002"
      ]
     },
     "execution_count": 156,
     "metadata": {},
     "output_type": "execute_result"
    }
   ],
   "source": [
    "mse = np.mean((x - y) ** 2)\n",
    "mse"
   ]
  },
  {
   "cell_type": "markdown",
   "metadata": {},
   "source": [
    "## 10. Pierwiastek ze średniego błędu kwadratowego (RMSE) między x i y"
   ]
  },
  {
   "cell_type": "code",
   "execution_count": 157,
   "metadata": {},
   "outputs": [
    {
     "data": {
      "text/plain": [
       "0.09889388252060893"
      ]
     },
     "execution_count": 157,
     "metadata": {},
     "output_type": "execute_result"
    }
   ],
   "source": [
    "rmse = np.sqrt(mse)\n",
    "rmse"
   ]
  },
  {
   "cell_type": "code",
   "execution_count": 180,
   "metadata": {},
   "outputs": [
    {
     "data": {
      "text/plain": [
       "0.099"
      ]
     },
     "execution_count": 180,
     "metadata": {},
     "output_type": "execute_result"
    }
   ],
   "source": [
    "rmse_rounded = np.round(rmse, 3)\n",
    "rmse_rounded"
   ]
  },
  {
   "cell_type": "markdown",
   "metadata": {},
   "source": [
    "## 11. Standaryzacja"
   ]
  },
  {
   "cell_type": "code",
   "execution_count": 144,
   "metadata": {},
   "outputs": [],
   "source": [
    "def standarize(x):\n",
    "    return (x - np.mean(x, axis=0)) / np.std(x, axis=0)\n",
    "\n",
    "x = standarize(x)"
   ]
  },
  {
   "cell_type": "code",
   "execution_count": 176,
   "metadata": {},
   "outputs": [
    {
     "data": {
      "text/plain": [
       "6e+24"
      ]
     },
     "execution_count": 176,
     "metadata": {},
     "output_type": "execute_result"
    }
   ],
   "source": [
    "6.0*10^24 + 1000"
   ]
  },
  {
   "cell_type": "code",
   "execution_count": 179,
   "metadata": {},
   "outputs": [
    {
     "data": {
      "text/plain": [
       "20400"
      ]
     },
     "execution_count": 179,
     "metadata": {},
     "output_type": "execute_result"
    }
   ],
   "source": [
    "M = np.array([[1, -2, 3, 4],[-2, 4, 6, 8], [3, 6, 8, -12], [4,8,-10,16]])\n",
    "x = np.array([42, 1, 32, -5])\n",
    "result = np.dot(np.dot(x, M), x.T)\n",
    "result"
   ]
  },
  {
   "cell_type": "markdown",
   "metadata": {},
   "source": [
    "## 12. Obliczanie liczby pi - metoda monte carlo"
   ]
  },
  {
   "cell_type": "code",
   "execution_count": 189,
   "metadata": {},
   "outputs": [
    {
     "data": {
      "text/plain": [
       "3.141634"
      ]
     },
     "execution_count": 189,
     "metadata": {},
     "output_type": "execute_result"
    }
   ],
   "source": [
    "def monte_carlo():\n",
    "    no_symulation = 10000000\n",
    "    \n",
    "    # random x_points\n",
    "    x_points = np.random.random(no_symulation)\n",
    "\n",
    "    # random y_points\n",
    "    y_points = np.random.random(no_symulation)\n",
    "\n",
    "    result = x_points ** 2 + y_points**2\n",
    "\n",
    "    result = result[result < 1]\n",
    "\n",
    "    # circle?\n",
    "    no_points_circle = np.count_nonzero(result)\n",
    "\n",
    "    calculated_pi = 4 * no_points_circle/no_symulation\n",
    "\n",
    "    return calculated_pi\n",
    "\n",
    "monte_carlo()"
   ]
  },
  {
   "cell_type": "markdown",
   "metadata": {},
   "source": [
    "## 13. Całka oznaczona (pole pod wykresem) od -2 do 2 z funkcji f(x) = exp(-x^2)"
   ]
  },
  {
   "cell_type": "code",
   "execution_count": 198,
   "metadata": {},
   "outputs": [
    {
     "data": {
      "image/png": "[encoded data removed]",
      "text/plain": [
       "<Figure size 432x288 with 1 Axes>"
      ]
     },
     "metadata": {
      "needs_background": "light"
     },
     "output_type": "display_data"
    }
   ],
   "source": [
    "def draw_function(x, y):\n",
    "    fig = plt.figure()\n",
    "    plt.plot(x, y, 'r')\n",
    "    plt.show()\n",
    "\n",
    "data_x = np.linspace(-2,2,40)\n",
    "data_y = np.exp(-data_x**2)\n",
    "\n",
    "draw_function(data_x, data_y)"
   ]
  },
  {
   "cell_type": "code",
   "execution_count": 205,
   "metadata": {},
   "outputs": [
    {
     "name": "stdout",
     "output_type": "stream",
     "text": [
      "1.7643956\n"
     ]
    }
   ],
   "source": [
    "def calculate_integral(y_start, y_end):\n",
    "    square = np.abs(y_end - y_start)\n",
    "    \n",
    "    no_symulation = 10_000_000\n",
    "    \n",
    "    # random x_points\n",
    "    x_points = (np.random.random(no_symulation) - 0.5) * 4\n",
    "\n",
    "    # random y_points\n",
    "    y_points = np.random.random(no_symulation)\n",
    "\n",
    "    result = np.exp(-x_points**2)\n",
    "\n",
    "    no_points_function = np.where(y_points < result, 1, 0)\n",
    "\n",
    "    no_points_square = np.sum(no_points_function)     \n",
    "\n",
    "    calculation = square * no_points_square/no_symulation\n",
    "\n",
    "    return calculation    \n",
    "\n",
    "print(calculate_integral(-2, 2))"
   ]
  }
 ],
 "metadata": {
  "interpreter": {
   "hash": "b76cd6e4a6b6a0eee4465e1b560322ab1bf63a751bf638da5e533cf13c264002"
  },
  "kernelspec": {
   "display_name": "Python 3.10.4 64-bit ('daftacademy-ds': conda)",
   "name": "python3"
  },
  "language_info": {
   "codemirror_mode": {
    "name": "ipython",
    "version": 3
   },
   "file_extension": ".py",
   "mimetype": "text/x-python",
   "name": "python",
   "nbconvert_exporter": "python",
   "pygments_lexer": "ipython3",
   "version": "3.10.4"
  },
  "orig_nbformat": 4
 },
 "nbformat": 4,
 "nbformat_minor": 2
}
